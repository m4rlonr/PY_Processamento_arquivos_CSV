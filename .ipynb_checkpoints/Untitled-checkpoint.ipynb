{
 "cells": [
  {
   "cell_type": "code",
   "execution_count": 37,
   "metadata": {},
   "outputs": [],
   "source": [
    "from openpyxl import load_workbook"
   ]
  },
  {
   "cell_type": "code",
   "execution_count": 38,
   "metadata": {},
   "outputs": [],
   "source": [
    "pagina = load_workbook('planilha.xlsx')['primeira']"
   ]
  },
  {
   "cell_type": "code",
   "execution_count": 39,
   "metadata": {},
   "outputs": [],
   "source": [
    "# contador = 0\n",
    "# pivo = 0\n",
    "# quantidades = []\n",
    "# parada = 0\n",
    "# i = 1"
   ]
  },
  {
   "cell_type": "code",
   "execution_count": 49,
   "metadata": {},
   "outputs": [
    {
     "ename": "SyntaxError",
     "evalue": "unexpected EOF while parsing (<ipython-input-49-205cceceeb91>, line 12)",
     "output_type": "error",
     "traceback": [
      "\u001b[0;36m  File \u001b[0;32m\"<ipython-input-49-205cceceeb91>\"\u001b[0;36m, line \u001b[0;32m12\u001b[0m\n\u001b[0;31m    #         contador = 1\u001b[0m\n\u001b[0m                          ^\u001b[0m\n\u001b[0;31mSyntaxError\u001b[0m\u001b[0;31m:\u001b[0m unexpected EOF while parsing\n"
     ]
    }
   ],
   "source": [
    "for item in pagina.iter_rows(min_row=2):\n",
    "    data = str(item[1].value)\n",
    "    print(str(item[1].value).split(\" \")\n",
    "\n",
    "#     if(pivo == hora):\n",
    "#         contador += 1\n",
    "#     elif(item[0].value == 'FIM'):\n",
    "#         print('Hora: %d, Quantidade pacotes: %d ' % (pivo, contador))\n",
    "#     else:\n",
    "#         print('Hora: %d, Quantidade pacotes: %d ' % (pivo, contador))\n",
    "#         pivo = hora\n",
    "#         contador = 1"
   ]
  },
  {
   "cell_type": "code",
   "execution_count": 36,
   "metadata": {},
   "outputs": [],
   "source": [
    "# for item in pagina.iter_rows(min_row=2):\n",
    "#     if(item[0].value == 'FIM'):\n",
    "#         print(\"chegou final\")\n",
    "# #     print(item[0].value)"
   ]
  },
  {
   "cell_type": "code",
   "execution_count": null,
   "metadata": {},
   "outputs": [],
   "source": []
  },
  {
   "cell_type": "code",
   "execution_count": null,
   "metadata": {},
   "outputs": [],
   "source": []
  },
  {
   "cell_type": "code",
   "execution_count": null,
   "metadata": {},
   "outputs": [],
   "source": [
    "# for item in pagina.iter_rows(min_row=2):\n",
    "#     data = str(item[1].value)\n",
    "#     hora = int(data.split(\" \")[1].split(\":\")[0])\n",
    "#     if(pivo == hora):\n",
    "#         contador += 1\n",
    "#     else:\n",
    "#         print('Hora: %d, Quantidade pacotes: %d ' % (pivo, contador))\n",
    "#         pivo = hora\n",
    "#         contador = 1"
   ]
  },
  {
   "cell_type": "code",
   "execution_count": null,
   "metadata": {},
   "outputs": [],
   "source": []
  },
  {
   "cell_type": "code",
   "execution_count": null,
   "metadata": {},
   "outputs": [],
   "source": []
  },
  {
   "cell_type": "code",
   "execution_count": null,
   "metadata": {},
   "outputs": [],
   "source": []
  }
 ],
 "metadata": {
  "kernelspec": {
   "display_name": "Python 3",
   "language": "python",
   "name": "python3"
  },
  "language_info": {
   "codemirror_mode": {
    "name": "ipython",
    "version": 3
   },
   "file_extension": ".py",
   "mimetype": "text/x-python",
   "name": "python",
   "nbconvert_exporter": "python",
   "pygments_lexer": "ipython3",
   "version": "3.8.10"
  }
 },
 "nbformat": 4,
 "nbformat_minor": 4
}
