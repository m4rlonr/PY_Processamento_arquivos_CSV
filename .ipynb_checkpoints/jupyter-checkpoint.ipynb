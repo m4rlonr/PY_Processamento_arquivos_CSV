{
 "cells": [
  {
   "cell_type": "code",
   "execution_count": null,
   "metadata": {},
   "outputs": [],
   "source": [
    "from openpyxl import load_workbook"
   ]
  },
  {
   "cell_type": "code",
   "execution_count": null,
   "metadata": {},
   "outputs": [],
   "source": [
    "print(\"Carregando dados\")\n",
    "pagina = load_workbook('sexta.xlsx')['6_sexta']\n",
    "print(\"Dados carregados\")"
   ]
  },
  {
   "cell_type": "code",
   "execution_count": null,
   "metadata": {},
   "outputs": [],
   "source": [
    "# for item in pagina.iter_rows(min_row=2):\n",
    "#     print(item[0].value)"
   ]
  },
  {
   "cell_type": "code",
   "execution_count": null,
   "metadata": {},
   "outputs": [],
   "source": [
    "# contador = 0\n",
    "# pivo = 0\n",
    "# quantidades = []\n",
    "# print(\"váriaveis criadas\")"
   ]
  },
  {
   "cell_type": "code",
   "execution_count": null,
   "metadata": {},
   "outputs": [],
   "source": [
    "# print(\"inicio processamento\")\n",
    "# for item in pagina.iter_rows(min_row=2):\n",
    "#     print(item[0].value)\n",
    "#     data = item[1].value\n",
    "#     if(type(data) == str):\n",
    "#         hora = int(data.split(\" \")[1].split(\":\")[0])\n",
    "#     else:\n",
    "#         quantidades.append({\"Horas\": pivo, \"Quantidade\": contador})\n",
    "#     if(pivo == hora):\n",
    "#         contador += 1\n",
    "#     else:\n",
    "#         quantidades.append({\"Horas\": pivo, \"Quantidade\": contador})\n",
    "#         pivo = hora\n",
    "#         contador = 0"
   ]
  },
  {
   "cell_type": "code",
   "execution_count": null,
   "metadata": {
    "scrolled": true
   },
   "outputs": [],
   "source": [
    "# print(quantidades)"
   ]
  },
  {
   "cell_type": "code",
   "execution_count": null,
   "metadata": {},
   "outputs": [],
   "source": []
  },
  {
   "cell_type": "code",
   "execution_count": null,
   "metadata": {},
   "outputs": [],
   "source": []
  }
 ],
 "metadata": {
  "kernelspec": {
   "display_name": "Python 3",
   "language": "python",
   "name": "python3"
  },
  "language_info": {
   "codemirror_mode": {
    "name": "ipython",
    "version": 3
   },
   "file_extension": ".py",
   "mimetype": "text/x-python",
   "name": "python",
   "nbconvert_exporter": "python",
   "pygments_lexer": "ipython3",
   "version": "3.8.10"
  }
 },
 "nbformat": 4,
 "nbformat_minor": 4
}
