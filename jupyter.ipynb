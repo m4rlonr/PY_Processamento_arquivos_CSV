{
 "cells": [
  {
   "cell_type": "code",
   "execution_count": 33,
   "metadata": {},
   "outputs": [],
   "source": [
    "from openpyxl import load_workbook"
   ]
  },
  {
   "cell_type": "code",
   "execution_count": 34,
   "metadata": {},
   "outputs": [
    {
     "name": "stdout",
     "output_type": "stream",
     "text": [
      "Carregando dados\n",
      "Dados carregados\n"
     ]
    }
   ],
   "source": [
    "print(\"Carregando dados\")\n",
    "pagina = load_workbook('planilha.xlsx')['teste']\n",
    "print(\"Dados carregados\")"
   ]
  },
  {
   "cell_type": "code",
   "execution_count": 35,
   "metadata": {},
   "outputs": [],
   "source": [
    "# acumulador = 0\n",
    "# for item in pagina.iter_rows(min_row=2):\n",
    "#     if()\n",
    "#     acumulador = item[5].value\n",
    "#     print(acumulador)"
   ]
  },
  {
   "cell_type": "code",
   "execution_count": 36,
   "metadata": {},
   "outputs": [
    {
     "name": "stdout",
     "output_type": "stream",
     "text": [
      "váriaveis criadas\n"
     ]
    }
   ],
   "source": [
    "acumulador = 0\n",
    "pivo = 0\n",
    "quantidades = []\n",
    "print(\"váriaveis criadas\")"
   ]
  },
  {
   "cell_type": "code",
   "execution_count": 37,
   "metadata": {},
   "outputs": [
    {
     "name": "stdout",
     "output_type": "stream",
     "text": [
      "inicio processamento\n",
      "1\n",
      "2\n",
      "3\n",
      "4\n",
      "5\n",
      "6\n",
      "7\n",
      "8\n",
      "9\n",
      "10\n",
      "11\n",
      "12\n",
      "13\n",
      "14\n",
      "15\n",
      "16\n",
      "17\n",
      "18\n",
      "19\n",
      "20\n",
      "21\n",
      "22\n",
      "23\n",
      "24\n",
      "25\n",
      "26\n",
      "FIM\n"
     ]
    }
   ],
   "source": [
    "print(\"inicio processamento\")\n",
    "for item in pagina.iter_rows(min_row=2):\n",
    "    print(item[0].value)\n",
    "    data = item[1].value\n",
    "    if(type(data) == str):\n",
    "        hora = int(data.split(\" \")[1].split(\":\")[0])\n",
    "    else:\n",
    "        quantidades.append({\"Horas\": pivo, \"Quantidade\": acumulador * 8})\n",
    "    if(pivo == hora):\n",
    "        if(type(item[5].value) == int):\n",
    "            acumulador += item[5].value\n",
    "    else:\n",
    "        quantidades.append({\"Horas\": pivo, \"Quantidade\": acumulador * 8})\n",
    "        pivo = hora\n",
    "        acumulador += item[5].value"
   ]
  },
  {
   "cell_type": "code",
   "execution_count": 38,
   "metadata": {
    "scrolled": true
   },
   "outputs": [
    {
     "name": "stdout",
     "output_type": "stream",
     "text": [
      "[{'Horas': 0, 'Quantidade': 15048}]\n"
     ]
    }
   ],
   "source": [
    "print(quantidades)"
   ]
  },
  {
   "cell_type": "code",
   "execution_count": null,
   "metadata": {},
   "outputs": [],
   "source": []
  },
  {
   "cell_type": "code",
   "execution_count": null,
   "metadata": {},
   "outputs": [],
   "source": []
  }
 ],
 "metadata": {
  "kernelspec": {
   "display_name": "Python 3",
   "language": "python",
   "name": "python3"
  },
  "language_info": {
   "codemirror_mode": {
    "name": "ipython",
    "version": 3
   },
   "file_extension": ".py",
   "mimetype": "text/x-python",
   "name": "python",
   "nbconvert_exporter": "python",
   "pygments_lexer": "ipython3",
   "version": "3.8.10"
  }
 },
 "nbformat": 4,
 "nbformat_minor": 4
}
